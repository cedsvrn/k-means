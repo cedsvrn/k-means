{
 "cells": [
  {
   "cell_type": "markdown",
   "metadata": {},
   "source": [
    "# K MEANS"
   ]
  },
  {
   "cell_type": "markdown",
   "metadata": {},
   "source": [
    "## Importing libraries"
   ]
  },
  {
   "cell_type": "code",
   "execution_count": 243,
   "metadata": {},
   "outputs": [],
   "source": [
    "import random\n",
    "import matplotlib.pyplot as plt\n",
    "import math"
   ]
  },
  {
   "cell_type": "markdown",
   "metadata": {},
   "source": [
    "## Setting the variables"
   ]
  },
  {
   "cell_type": "code",
   "execution_count": 259,
   "metadata": {},
   "outputs": [],
   "source": [
    "max_x_value = 100\n",
    "min_x_value = 1\n",
    "max_y_value = 100\n",
    "min_y_value = 1\n",
    "\n",
    "number_of_points = 100\n",
    "number_of_k_points = 10\n",
    "number_of_iterations = 10"
   ]
  },
  {
   "cell_type": "markdown",
   "metadata": {},
   "source": [
    "## Plotting the datas"
   ]
  },
  {
   "cell_type": "markdown",
   "metadata": {},
   "source": [
    "### Plotting list of points + k_points"
   ]
  },
  {
   "cell_type": "code",
   "execution_count": 260,
   "metadata": {},
   "outputs": [],
   "source": [
    "def plot_list(list_of_points, list_of_k_points):\n",
    "    # Blue for the points\n",
    "    plt.scatter(*zip(*list_of_points), c=\"blue\")\n",
    "    \n",
    "    # Red for the k_points\n",
    "    if list_of_k_points!=[]:\n",
    "        plt.scatter(*zip(*list_of_k_points), c=\"red\")\n",
    "    plt.show()"
   ]
  },
  {
   "cell_type": "code",
   "execution_count": 261,
   "metadata": {},
   "outputs": [],
   "source": [
    "list_of_points = get_list_of_n_points(number_of_points)"
   ]
  },
  {
   "cell_type": "code",
   "execution_count": 262,
   "metadata": {},
   "outputs": [
    {
     "data": {
      "image/png": "[encoded data removed]",
      "text/plain": [
       "<Figure size 432x288 with 1 Axes>"
      ]
     },
     "metadata": {
      "needs_background": "light"
     },
     "output_type": "display_data"
    }
   ],
   "source": [
    "plot_list(list_of_points, [])"
   ]
  },
  {
   "cell_type": "markdown",
   "metadata": {},
   "source": [
    "### Printing the k groups with different colors"
   ]
  },
  {
   "cell_type": "code",
   "execution_count": 263,
   "metadata": {},
   "outputs": [],
   "source": [
    "def random_color():\n",
    "    # Getting random RGB color\n",
    "    color = \"#\"+''.join([random.choice('0123456789ABCDEF') for j in range(6)])\n",
    "    return color"
   ]
  },
  {
   "cell_type": "code",
   "execution_count": 283,
   "metadata": {},
   "outputs": [],
   "source": [
    "def print_groups(list_of_closest, list_of_k_points):\n",
    "    plt.figure(figsize=(12,12))\n",
    "    \n",
    "    for k_group in list_of_closest:\n",
    "        # Get color\n",
    "        color = random_color()\n",
    "        # Plotting the points\n",
    "        plt.scatter(*zip(*k_group), c=color)\n",
    "    \n",
    "    # Plotting the k_points\n",
    "    plt.scatter(*zip(*list_of_k_points), marker='*', c=\"red\")\n",
    "    \n",
    "    plt.show()"
   ]
  },
  {
   "cell_type": "markdown",
   "metadata": {},
   "source": [
    "## Functions"
   ]
  },
  {
   "cell_type": "markdown",
   "metadata": {},
   "source": [
    "### Get list of n random points"
   ]
  },
  {
   "cell_type": "code",
   "execution_count": 265,
   "metadata": {},
   "outputs": [],
   "source": [
    "def get_list_of_n_points(n):\n",
    "    l=[]\n",
    "    for i in range(n):\n",
    "        # Getting random between 1 and 50\n",
    "        x_rand = random.randint(min_x_value,max_x_value)\n",
    "        y_rand = random.randint(min_y_value,max_y_value)\n",
    "        l.append((x_rand, y_rand))\n",
    "    return l"
   ]
  },
  {
   "cell_type": "markdown",
   "metadata": {},
   "source": [
    "### Get distance between 2 points"
   ]
  },
  {
   "cell_type": "code",
   "execution_count": 266,
   "metadata": {},
   "outputs": [],
   "source": [
    "def get_distance(a, b):\n",
    "    return math.sqrt( (a[0]-b[0])**2 + (a[1]-b[1])**2 )"
   ]
  },
  {
   "cell_type": "markdown",
   "metadata": {},
   "source": [
    "### Get the closest k_point for a specified point"
   ]
  },
  {
   "cell_type": "code",
   "execution_count": 267,
   "metadata": {},
   "outputs": [],
   "source": [
    "def get_closest_k(point,list_of_k_points):\n",
    "    dist = 10000\n",
    "    index = 0\n",
    "    i = 0\n",
    "    for k_point in list_of_k_points:\n",
    "        # Getting the distance\n",
    "        new_d = get_distance(k_point, point) \n",
    "        \n",
    "        # If distance is smaller than previously\n",
    "        if (new_d < dist):\n",
    "            index = i\n",
    "            dist=new_d\n",
    "            \n",
    "        i=i+1\n",
    "        \n",
    "    return index"
   ]
  },
  {
   "cell_type": "markdown",
   "metadata": {},
   "source": [
    "### Get closest list"
   ]
  },
  {
   "cell_type": "code",
   "execution_count": 268,
   "metadata": {},
   "outputs": [],
   "source": [
    "def get_closest_list(list_of_points, list_of_k_points):\n",
    "    # Creating the list of list\n",
    "    list_of_closest = []\n",
    "    for item in list_of_k_points:\n",
    "        list_of_closest.append([])\n",
    "        \n",
    "    for point in list_of_points:\n",
    "        # Getting the index of the closest k_point\n",
    "        k_index = get_closest_k(point,list_of_k_points)\n",
    "        # Adding the point to the index of the k_point\n",
    "        list_of_closest[k_index].append(point)\n",
    "        \n",
    "    return list_of_closest"
   ]
  },
  {
   "cell_type": "markdown",
   "metadata": {},
   "source": [
    "### Get centroid of list of points"
   ]
  },
  {
   "cell_type": "code",
   "execution_count": 269,
   "metadata": {},
   "outputs": [],
   "source": [
    "def get_centroid(l):\n",
    "    length = len(l)\n",
    "    # Adding the x's\n",
    "    x_coord = [p[0] for p in l]\n",
    "    # Adding the y's\n",
    "    y_coord = [p[1] for p in l]\n",
    "    \n",
    "    return (sum(x_coord)/length, sum(y_coord)/length)"
   ]
  },
  {
   "cell_type": "markdown",
   "metadata": {},
   "source": [
    "### Get k new points using centroids"
   ]
  },
  {
   "cell_type": "code",
   "execution_count": 270,
   "metadata": {},
   "outputs": [],
   "source": [
    "def get_new_k_points(list_of_closest):\n",
    "    new_list = []\n",
    "    for k_group in list_of_closest:\n",
    "        # Getting centroids for each group\n",
    "        new_list.append(get_centroid(k_group))\n",
    "    return new_list"
   ]
  },
  {
   "cell_type": "markdown",
   "metadata": {},
   "source": [
    "## Main Function"
   ]
  },
  {
   "cell_type": "code",
   "execution_count": 275,
   "metadata": {},
   "outputs": [],
   "source": [
    "def k_means(iterations, k, list_of_points):\n",
    "    # We create the list of k points\n",
    "    list_of_k_points = get_list_of_n_points(k)\n",
    "    # We plot both lists\n",
    "    #plot_list(list_of_points, list_of_k_points)\n",
    "    \n",
    "    # We start the iterations\n",
    "    for i in range(iterations):\n",
    "        # Getting the list of closest\n",
    "        list_of_closest = get_closest_list(list_of_points, list_of_k_points)\n",
    "        # Printing groups\n",
    "        #print_groups(list_of_closest, list_of_k_points)\n",
    "        \n",
    "        # If not last iteration\n",
    "        if i<(iterations-1):\n",
    "            list_of_k_points = get_new_k_points(list_of_closest)\n",
    "        \n",
    "    print_groups(list_of_closest, list_of_k_points)"
   ]
  },
  {
   "cell_type": "code",
   "execution_count": 284,
   "metadata": {},
   "outputs": [
    {
     "data": {
      "image/png": "[encoded data removed]",
      "text/plain": [
       "<Figure size 864x864 with 1 Axes>"
      ]
     },
     "metadata": {
      "needs_background": "light"
     },
     "output_type": "display_data"
    }
   ],
   "source": [
    "k_means(number_of_iterations, number_of_k_points, list_of_points)"
   ]
  }
 ],
 "metadata": {
  "kernelspec": {
   "display_name": "Python 3",
   "language": "python",
   "name": "python3"
  },
  "language_info": {
   "codemirror_mode": {
    "name": "ipython",
    "version": 3
   },
   "file_extension": ".py",
   "mimetype": "text/x-python",
   "name": "python",
   "nbconvert_exporter": "python",
   "pygments_lexer": "ipython3",
   "version": "3.7.0"
  }
 },
 "nbformat": 4,
 "nbformat_minor": 2
}
